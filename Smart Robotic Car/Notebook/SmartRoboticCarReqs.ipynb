{
 "cells": [
  {
   "cell_type": "code",
   "execution_count": 1,
   "id": "2a37e099-2143-4e54-bb27-d4cd95860eb8",
   "metadata": {},
   "outputs": [
    {
     "name": "stderr",
     "output_type": "stream",
     "text": [
      "/tmp/ipykernel_157751/2307913310.py:9: DeprecationWarning: The 'jupyter_untrusted' argument is no longer needed and will be removed soon. Please remove it from your calls.\n",
      "  model = capellambse.MelodyModel(path_to_model, resources=resources, jupyter_untrusted=False)\n"
     ]
    },
    {
     "data": {
      "text/plain": [
       "<capellambse.model.MelodyModel at 0x7ff984575090>"
      ]
     },
     "execution_count": 1,
     "metadata": {},
     "output_type": "execute_result"
    }
   ],
   "source": [
    "import capellambse\n",
    "\n",
    "from IPython.core.display import HTML\n",
    "\n",
    "resources = {\n",
    "    \"SmartRoboticCar\": \"SmartRoboticCar/Smart Robotic Car\",\n",
    "}\n",
    "path_to_model = \"../Smart Robotic Car.aird\"\n",
    "model = capellambse.MelodyModel(path_to_model, resources=resources, jupyter_untrusted=False)\n",
    "model"
   ]
  },
  {
   "cell_type": "code",
   "execution_count": 3,
   "id": "f2f987d7-2c14-42ef-9a9b-f1d5302dcab0",
   "metadata": {},
   "outputs": [
    {
     "data": {
      "text/html": [
       "<ol start=\"0\" style=\"text-align: left;\"><li><strong>Requirement</strong> <a href=\"hlink://12a1972b-dc48-4073-8ef3-3d68af319e92\">&quot;IR Remote Control&quot;</a> (12a1972b-dc48-4073-8ef3-3d68af319e92)</li></ol>"
      ],
      "text/plain": [
       "[0] <Requirement 'IR Remote Control' (12a1972b-dc48-4073-8ef3-3d68af319e92)>"
      ]
     },
     "execution_count": 3,
     "metadata": {},
     "output_type": "execute_result"
    }
   ],
   "source": [
    "reqs = model.sa.all_requirements\n",
    "reqs"
   ]
  },
  {
   "cell_type": "code",
   "execution_count": 3,
   "id": "7dfe4a02-89f2-4444-92b0-f3842de08dec",
   "metadata": {},
   "outputs": [
    {
     "data": {
      "text/html": [
       "<p><em>(Empty list)</em></p>"
      ],
      "text/plain": [
       "[]"
      ]
     },
     "execution_count": 3,
     "metadata": {},
     "output_type": "execute_result"
    }
   ],
   "source": [
    "reqtype = model.sa.requirement_types_folders\n",
    "reqtype"
   ]
  },
  {
   "cell_type": "code",
   "execution_count": null,
   "id": "83409ad9-76a1-42e4-b076-93a3d3e224ce",
   "metadata": {},
   "outputs": [],
   "source": []
  }
 ],
 "metadata": {
  "kernelspec": {
   "display_name": "Python 3 (ipykernel)",
   "language": "python",
   "name": "python3"
  },
  "language_info": {
   "codemirror_mode": {
    "name": "ipython",
    "version": 3
   },
   "file_extension": ".py",
   "mimetype": "text/x-python",
   "name": "python",
   "nbconvert_exporter": "python",
   "pygments_lexer": "ipython3",
   "version": "3.11.7"
  }
 },
 "nbformat": 4,
 "nbformat_minor": 5
}
